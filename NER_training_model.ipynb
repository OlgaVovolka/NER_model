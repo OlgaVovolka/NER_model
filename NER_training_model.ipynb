{
 "cells": [
  {
   "cell_type": "markdown",
   "id": "fad13254-0fce-41e6-8b95-7c47f638fc99",
   "metadata": {},
   "source": [
    "## Importing libraries and tools"
   ]
  },
  {
   "cell_type": "code",
   "execution_count": null,
   "id": "be7f9199-5606-4ed9-ba81-d7bd4fba65f8",
   "metadata": {},
   "outputs": [],
   "source": [
    "# Setting up PyTorch and Transformers for the NER model\n",
    "pip install transformers torch sklearn spacy"
   ]
  },
  {
   "cell_type": "code",
   "execution_count": 37,
   "id": "9160db0f-5325-406a-8112-52c655bfd606",
   "metadata": {},
   "outputs": [],
   "source": [
    "# Importing necessary libraries\n",
    "import json\n",
    "import transformers\n",
    "import torch\n",
    "import numpy as np\n",
    "import re\n",
    "import spacy\n",
    "from tqdm import tqdm\n",
    "from spacy.tokens import DocBin"
   ]
  },
  {
   "cell_type": "markdown",
   "id": "31cee4e0-7dcc-41b6-911e-090901a4c0a4",
   "metadata": {},
   "source": [
    "## Load and preprocess data "
   ]
  },
  {
   "cell_type": "code",
   "execution_count": 25,
   "id": "27b3dbdd-eca2-45e8-9ad5-b11380e7d446",
   "metadata": {},
   "outputs": [],
   "source": [
    "# Loading the dataset from the JSON file\n",
    "f = open('mountains_data.json')\n",
    "data = json.load(f)"
   ]
  },
  {
   "cell_type": "code",
   "execution_count": 26,
   "id": "6ee09f3c-ca7d-4da0-a487-fbb969c75b2d",
   "metadata": {},
   "outputs": [
    {
     "name": "stderr",
     "output_type": "stream",
     "text": [
      "100%|██████████| 23/23 [00:00<00:00, 850.79it/s]"
     ]
    },
    {
     "name": "stdout",
     "output_type": "stream",
     "text": [
      "Skipping entity: ed Olym at: 1140 1147\n"
     ]
    },
    {
     "name": "stderr",
     "output_type": "stream",
     "text": [
      "\n"
     ]
    }
   ],
   "source": [
    "# Load the spaCy model\n",
    "nlp = spacy.blank(\"en\")\n",
    "\n",
    "# Function to process data and return a DocBin\n",
    "def process_data(file_path):\n",
    "    db = DocBin()\n",
    "    with open(file_path, 'r') as f:\n",
    "        data = json.load(f)\n",
    "    for text, annot in tqdm(data['annotations']):\n",
    "        doc = nlp.make_doc(text)\n",
    "        ents = []\n",
    "        for start, end, label in annot[\"entities\"]:\n",
    "            span = doc.char_span(start, end, label=label, alignment_mode=\"contract\")\n",
    "            if span is None:\n",
    "                print(\"Skipping entity:\", text[start:end], \"at:\", start, end)\n",
    "            else:\n",
    "                ents.append(span)\n",
    "        doc.ents = ents\n",
    "        db.add(doc)\n",
    "    return db\n",
    "\n",
    "# Process training data\n",
    "train_db = process_data('mountains_data.json')\n",
    "train_db.to_disk(\"./training_data.spacy\")\n"
   ]
  },
  {
   "cell_type": "code",
   "execution_count": 27,
   "id": "b8f8fbfb-4090-4898-8ea6-bab10ff0d476",
   "metadata": {},
   "outputs": [
    {
     "name": "stdout",
     "output_type": "stream",
     "text": [
      "\u001b[38;5;3m[!] To generate a more effective transformer-based config (GPU-only),\n",
      "install the spacy-transformers package and re-run this command. The config\n",
      "generated now does not use transformers.\u001b[0m\n",
      "\u001b[38;5;4m[i] Generated config template specific for your use case\u001b[0m\n",
      "- Language: en\n",
      "- Pipeline: ner\n",
      "- Optimize for: efficiency\n",
      "- Hardware: CPU\n",
      "- Transformer: None\n",
      "\u001b[38;5;2m[+] Auto-filled config with all values\u001b[0m\n",
      "\u001b[38;5;2m[+] Saved config\u001b[0m\n",
      "config.cfg\n",
      "You can now add your data and train your pipeline:\n",
      "python -m spacy train config.cfg --paths.train ./train.spacy --paths.dev ./dev.spacy\n"
     ]
    }
   ],
   "source": [
    "# Setup process for training a custom Named Entity Recognition (NER) model using the spaCy library\n",
    "! python -m spacy init config config.cfg --lang en --pipeline ner --optimize efficiency"
   ]
  },
  {
   "cell_type": "code",
   "execution_count": 28,
   "id": "a19e81c8-dbdd-4cbc-94f2-bd61b08c845a",
   "metadata": {},
   "outputs": [
    {
     "name": "stdout",
     "output_type": "stream",
     "text": [
      "\u001b[38;5;4m[i] Saving to output directory: .\u001b[0m\n",
      "\u001b[38;5;4m[i] Using CPU\u001b[0m\n",
      "\u001b[1m\n",
      "=========================== Initializing pipeline ===========================\u001b[0m\n",
      "\u001b[38;5;2m[+] Initialized pipeline\u001b[0m\n",
      "\u001b[1m\n",
      "============================= Training pipeline =============================\u001b[0m\n",
      "\u001b[38;5;4m[i] Pipeline: ['tok2vec', 'ner']\u001b[0m\n",
      "\u001b[38;5;4m[i] Initial learn rate: 0.001\u001b[0m\n",
      "E    #       LOSS TOK2VEC  LOSS NER  ENTS_F  ENTS_P  ENTS_R  SCORE \n",
      "---  ------  ------------  --------  ------  ------  ------  ------\n",
      "  0       0          0.00     39.67    0.00    0.00    0.00    0.00\n",
      " 15     200         29.08   1412.88  100.00  100.00  100.00    1.00\n",
      " 33     400         18.60     19.30  100.00  100.00  100.00    1.00\n",
      " 53     600          4.46      3.04  100.00  100.00  100.00    1.00\n",
      " 75     800          0.00      0.00  100.00  100.00  100.00    1.00\n",
      " 99    1000         78.83     45.77  100.00  100.00  100.00    1.00\n",
      "123    1200         49.01     11.94  100.00  100.00  100.00    1.00\n",
      "153    1400          0.00      0.00  100.00  100.00  100.00    1.00\n",
      "191    1600          0.00      0.00  100.00  100.00  100.00    1.00\n",
      "238    1800          0.00      0.00  100.00  100.00  100.00    1.00\n",
      "\u001b[38;5;2m[+] Saved pipeline to output directory\u001b[0m\n",
      "model-last\n"
     ]
    },
    {
     "name": "stderr",
     "output_type": "stream",
     "text": [
      "[2023-12-11 17:54:23,433] [INFO] Set up nlp object from config\n",
      "[2023-12-11 17:54:23,448] [INFO] Pipeline: ['tok2vec', 'ner']\n",
      "[2023-12-11 17:54:23,452] [INFO] Created vocabulary\n",
      "[2023-12-11 17:54:23,453] [INFO] Finished initializing nlp object\n",
      "[2023-12-11 17:54:23,653] [INFO] Initialized pipeline components: ['tok2vec', 'ner']\n"
     ]
    }
   ],
   "source": [
    "#  Training a spaCy model based on a predefined configuration and training data\n",
    "! python -m spacy train config.cfg --output ./ --paths.train ./training_data.spacy --paths.dev ./training_data.spacy"
   ]
  },
  {
   "cell_type": "markdown",
   "id": "df1eb249-6f7a-4e3a-9582-18a8ba03b818",
   "metadata": {},
   "source": [
    "### Cheking model work "
   ]
  },
  {
   "cell_type": "code",
   "execution_count": 29,
   "id": "87306ec2-0fa3-4a60-a84c-3d6eeb1f45bb",
   "metadata": {},
   "outputs": [],
   "source": [
    "# Load the trained model from the output directory\n",
    "trained_model = spacy.load(\"./output/model-best\") "
   ]
  },
  {
   "cell_type": "code",
   "execution_count": 35,
   "id": "ad5c09c1-fcd5-45b8-bcf6-b1d2584dc3a4",
   "metadata": {},
   "outputs": [
    {
     "data": {
      "text/html": [
       "<span class=\"tex2jax_ignore\"><div class=\"entities\" style=\"line-height: 2.5; direction: ltr\">In the heart of Europe, the majestic \n",
       "<mark class=\"entity\" style=\"background: #ddd; padding: 0.45em 0.6em; margin: 0 0.25em; line-height: 1; border-radius: 0.35em;\">\n",
       "    Alps\n",
       "    <span style=\"font-size: 0.8em; font-weight: bold; line-height: 1; border-radius: 0.35em; vertical-align: middle; margin-left: 0.5rem\">MOUNTAIN</span>\n",
       "</mark>\n",
       " stretch across borders, embracing both France and Switzerland with their snow-capped peaks. Among these giants, \n",
       "<mark class=\"entity\" style=\"background: #ddd; padding: 0.45em 0.6em; margin: 0 0.25em; line-height: 1; border-radius: 0.35em;\">\n",
       "    Mont Blanc\n",
       "    <span style=\"font-size: 0.8em; font-weight: bold; line-height: 1; border-radius: 0.35em; vertical-align: middle; margin-left: 0.5rem\">MOUNTAIN</span>\n",
       "</mark>\n",
       " stands tall, a beacon to mountaineers and nature enthusiasts alike. Its towering presence, reaching an elevation of 4,808 meters, not only marks the highest point in the \n",
       "<mark class=\"entity\" style=\"background: #ddd; padding: 0.45em 0.6em; margin: 0 0.25em; line-height: 1; border-radius: 0.35em;\">\n",
       "    Alps\n",
       "    <span style=\"font-size: 0.8em; font-weight: bold; line-height: 1; border-radius: 0.35em; vertical-align: middle; margin-left: 0.5rem\">MOUNTAIN</span>\n",
       "</mark>\n",
       " but also in Western Europe.</br>Journeying eastward into Switzerland, the \n",
       "<mark class=\"entity\" style=\"background: #ddd; padding: 0.45em 0.6em; margin: 0 0.25em; line-height: 1; border-radius: 0.35em;\">\n",
       "    Eiger\n",
       "    <span style=\"font-size: 0.8em; font-weight: bold; line-height: 1; border-radius: 0.35em; vertical-align: middle; margin-left: 0.5rem\">MOUNTAIN</span>\n",
       "</mark>\n",
       " looms with its notorious north face, a challenge that has tested the mettle of climbers for decades. Not far from the \n",
       "<mark class=\"entity\" style=\"background: #ddd; padding: 0.45em 0.6em; margin: 0 0.25em; line-height: 1; border-radius: 0.35em;\">\n",
       "    Eiger\n",
       "    <span style=\"font-size: 0.8em; font-weight: bold; line-height: 1; border-radius: 0.35em; vertical-align: middle; margin-left: 0.5rem\">MOUNTAIN</span>\n",
       "</mark>\n",
       ", the \n",
       "<mark class=\"entity\" style=\"background: #ddd; padding: 0.45em 0.6em; margin: 0 0.25em; line-height: 1; border-radius: 0.35em;\">\n",
       "    Matterhorn\n",
       "    <span style=\"font-size: 0.8em; font-weight: bold; line-height: 1; border-radius: 0.35em; vertical-align: middle; margin-left: 0.5rem\">MOUNTAIN</span>\n",
       "</mark>\n",
       " rises with its iconic pyramidal shape, straddling the Swiss-Italian border. This emblematic peak, with its steep faces and razor-sharp ridges.</br>Further south, the grandeur of the \n",
       "<mark class=\"entity\" style=\"background: #ddd; padding: 0.45em 0.6em; margin: 0 0.25em; line-height: 1; border-radius: 0.35em;\">\n",
       "    Swiss Alps\n",
       "    <span style=\"font-size: 0.8em; font-weight: bold; line-height: 1; border-radius: 0.35em; vertical-align: middle; margin-left: 0.5rem\">MOUNTAIN</span>\n",
       "</mark>\n",
       " is exemplified by the \n",
       "<mark class=\"entity\" style=\"background: #ddd; padding: 0.45em 0.6em; margin: 0 0.25em; line-height: 1; border-radius: 0.35em;\">\n",
       "    Dufourspitze\n",
       "    <span style=\"font-size: 0.8em; font-weight: bold; line-height: 1; border-radius: 0.35em; vertical-align: middle; margin-left: 0.5rem\">MOUNTAIN</span>\n",
       "</mark>\n",
       ", part of the \n",
       "<mark class=\"entity\" style=\"background: #ddd; padding: 0.45em 0.6em; margin: 0 0.25em; line-height: 1; border-radius: 0.35em;\">\n",
       "    Monte Rosa\n",
       "    <span style=\"font-size: 0.8em; font-weight: bold; line-height: 1; border-radius: 0.35em; vertical-align: middle; margin-left: 0.5rem\">MOUNTAIN</span>\n",
       "</mark>\n",
       " massif. It stands as Switzerland's highest peak, offering breathtaking vistas that extend across the alpine horizon. Back in France, the rugged beauty of the \n",
       "<mark class=\"entity\" style=\"background: #ddd; padding: 0.45em 0.6em; margin: 0 0.25em; line-height: 1; border-radius: 0.35em;\">\n",
       "    Pelvoux\n",
       "    <span style=\"font-size: 0.8em; font-weight: bold; line-height: 1; border-radius: 0.35em; vertical-align: middle; margin-left: 0.5rem\">MOUNTAIN</span>\n",
       "</mark>\n",
       " and \n",
       "<mark class=\"entity\" style=\"background: #ddd; padding: 0.45em 0.6em; margin: 0 0.25em; line-height: 1; border-radius: 0.35em;\">\n",
       "    Barre des Écrins\n",
       "    <span style=\"font-size: 0.8em; font-weight: bold; line-height: 1; border-radius: 0.35em; vertical-align: middle; margin-left: 0.5rem\">MOUNTAIN</span>\n",
       "</mark>\n",
       " in the \n",
       "<mark class=\"entity\" style=\"background: #ddd; padding: 0.45em 0.6em; margin: 0 0.25em; line-height: 1; border-radius: 0.35em;\">\n",
       "    Dauphiné Alps\n",
       "    <span style=\"font-size: 0.8em; font-weight: bold; line-height: 1; border-radius: 0.35em; vertical-align: middle; margin-left: 0.5rem\">MOUNTAIN</span>\n",
       "</mark>\n",
       " offers yet another playground for alpine adventurers.</br>These mountains, \n",
       "<mark class=\"entity\" style=\"background: #ddd; padding: 0.45em 0.6em; margin: 0 0.25em; line-height: 1; border-radius: 0.35em;\">\n",
       "    Mont Blanc\n",
       "    <span style=\"font-size: 0.8em; font-weight: bold; line-height: 1; border-radius: 0.35em; vertical-align: middle; margin-left: 0.5rem\">MOUNTAIN</span>\n",
       "</mark>\n",
       ", \n",
       "<mark class=\"entity\" style=\"background: #ddd; padding: 0.45em 0.6em; margin: 0 0.25em; line-height: 1; border-radius: 0.35em;\">\n",
       "    Eiger\n",
       "    <span style=\"font-size: 0.8em; font-weight: bold; line-height: 1; border-radius: 0.35em; vertical-align: middle; margin-left: 0.5rem\">MOUNTAIN</span>\n",
       "</mark>\n",
       ", \n",
       "<mark class=\"entity\" style=\"background: #ddd; padding: 0.45em 0.6em; margin: 0 0.25em; line-height: 1; border-radius: 0.35em;\">\n",
       "    Matterhorn\n",
       "    <span style=\"font-size: 0.8em; font-weight: bold; line-height: 1; border-radius: 0.35em; vertical-align: middle; margin-left: 0.5rem\">MOUNTAIN</span>\n",
       "</mark>\n",
       ", \n",
       "<mark class=\"entity\" style=\"background: #ddd; padding: 0.45em 0.6em; margin: 0 0.25em; line-height: 1; border-radius: 0.35em;\">\n",
       "    Dufourspitze\n",
       "    <span style=\"font-size: 0.8em; font-weight: bold; line-height: 1; border-radius: 0.35em; vertical-align: middle; margin-left: 0.5rem\">MOUNTAIN</span>\n",
       "</mark>\n",
       " and \n",
       "<mark class=\"entity\" style=\"background: #ddd; padding: 0.45em 0.6em; margin: 0 0.25em; line-height: 1; border-radius: 0.35em;\">\n",
       "    Barre des Écrins\n",
       "    <span style=\"font-size: 0.8em; font-weight: bold; line-height: 1; border-radius: 0.35em; vertical-align: middle; margin-left: 0.5rem\">MOUNTAIN</span>\n",
       "</mark>\n",
       ", each tell their own story of geological marvels and human endeavors. They stand as silent witnesses to the passage of time, continuing to draw those who seek the serenity and challenge of the high mountains.</br>Across the Atlantic, in the vast landscapes of the United States, stand some of the most renowned mountains in the world, each with its unique allure and historical significance. In the state of Washington, \n",
       "<mark class=\"entity\" style=\"background: #ddd; padding: 0.45em 0.6em; margin: 0 0.25em; line-height: 1; border-radius: 0.35em;\">\n",
       "    Mount Rainier\n",
       "    <span style=\"font-size: 0.8em; font-weight: bold; line-height: 1; border-radius: 0.35em; vertical-align: middle; margin-left: 0.5rem\">MOUNTAIN</span>\n",
       "</mark>\n",
       " towers over the landscape, a massive stratovolcano that is both feared for its potential eruption and revered for its stunning beauty. This iconic landmark of the pacific northwest is a prominent feature of the \n",
       "<mark class=\"entity\" style=\"background: #ddd; padding: 0.45em 0.6em; margin: 0 0.25em; line-height: 1; border-radius: 0.35em;\">\n",
       "    Cascade Range\n",
       "    <span style=\"font-size: 0.8em; font-weight: bold; line-height: 1; border-radius: 0.35em; vertical-align: middle; margin-left: 0.5rem\">MOUNTAIN</span>\n",
       "</mark>\n",
       " and a challenging summit for climbers.</br>Moving to the heart of Wyoming, the \n",
       "<mark class=\"entity\" style=\"background: #ddd; padding: 0.45em 0.6em; margin: 0 0.25em; line-height: 1; border-radius: 0.35em;\">\n",
       "    Grand Teton\n",
       "    <span style=\"font-size: 0.8em; font-weight: bold; line-height: 1; border-radius: 0.35em; vertical-align: middle; margin-left: 0.5rem\">MOUNTAIN</span>\n",
       "</mark>\n",
       " in \n",
       "<mark class=\"entity\" style=\"background: #ddd; padding: 0.45em 0.6em; margin: 0 0.25em; line-height: 1; border-radius: 0.35em;\">\n",
       "    Grand Teton National\n",
       "    <span style=\"font-size: 0.8em; font-weight: bold; line-height: 1; border-radius: 0.35em; vertical-align: middle; margin-left: 0.5rem\">MOUNTAIN</span>\n",
       "</mark>\n",
       " Park rises dramatically from the valley \n",
       "<mark class=\"entity\" style=\"background: #ddd; padding: 0.45em 0.6em; margin: 0 0.25em; line-height: 1; border-radius: 0.35em;\">\n",
       "    of Jackson\n",
       "    <span style=\"font-size: 0.8em; font-weight: bold; line-height: 1; border-radius: 0.35em; vertical-align: middle; margin-left: 0.5rem\">MOUNTAIN</span>\n",
       "</mark>\n",
       " Hole. Its jagged peaks, part of the \n",
       "<mark class=\"entity\" style=\"background: #ddd; padding: 0.45em 0.6em; margin: 0 0.25em; line-height: 1; border-radius: 0.35em;\">\n",
       "    Rocky Mountains\n",
       "    <span style=\"font-size: 0.8em; font-weight: bold; line-height: 1; border-radius: 0.35em; vertical-align: middle; margin-left: 0.5rem\">MOUNTAIN</span>\n",
       "</mark>\n",
       ", have become synonymous with rugged wilderness and natural beauty. The \n",
       "<mark class=\"entity\" style=\"background: #ddd; padding: 0.45em 0.6em; margin: 0 0.25em; line-height: 1; border-radius: 0.35em;\">\n",
       "    Grand Teton\n",
       "    <span style=\"font-size: 0.8em; font-weight: bold; line-height: 1; border-radius: 0.35em; vertical-align: middle; margin-left: 0.5rem\">MOUNTAIN</span>\n",
       "</mark>\n",
       ", with its impressive and formidable profile, continues to be a favorite destination for mountaineers and nature lovers.</br>In the southwestern state of California, the \n",
       "<mark class=\"entity\" style=\"background: #ddd; padding: 0.45em 0.6em; margin: 0 0.25em; line-height: 1; border-radius: 0.35em;\">\n",
       "    Sierra Nevada\n",
       "    <span style=\"font-size: 0.8em; font-weight: bold; line-height: 1; border-radius: 0.35em; vertical-align: middle; margin-left: 0.5rem\">MOUNTAIN</span>\n",
       "</mark>\n",
       " range presents \n",
       "<mark class=\"entity\" style=\"background: #ddd; padding: 0.45em 0.6em; margin: 0 0.25em; line-height: 1; border-radius: 0.35em;\">\n",
       "    Mount Whitney\n",
       "    <span style=\"font-size: 0.8em; font-weight: bold; line-height: 1; border-radius: 0.35em; vertical-align: middle; margin-left: 0.5rem\">MOUNTAIN</span>\n",
       "</mark>\n",
       ", the highest summit in the contiguous United States. Its elevation of 14,505 feet attracts hikers and climbers from all over, eager to conquer its peak and enjoy the panoramic views from the top.</br></div></span>"
      ],
      "text/plain": [
       "<IPython.core.display.HTML object>"
      ]
     },
     "metadata": {},
     "output_type": "display_data"
    }
   ],
   "source": [
    "# Example text\n",
    "text = '''In the heart of Europe, the majestic Alps stretch across borders, embracing both France and Switzerland with their snow-capped peaks. Among these giants, Mont Blanc stands tall, a beacon to mountaineers and nature enthusiasts alike. Its towering presence, reaching an elevation of 4,808 meters, not only marks the highest point in the Alps but also in Western Europe.\n",
    "Journeying eastward into Switzerland, the Eiger looms with its notorious north face, a challenge that has tested the mettle of climbers for decades. Not far from the Eiger, the Matterhorn rises with its iconic pyramidal shape, straddling the Swiss-Italian border. This emblematic peak, with its steep faces and razor-sharp ridges.\n",
    "Further south, the grandeur of the Swiss Alps is exemplified by the Dufourspitze, part of the Monte Rosa massif. It stands as Switzerland's highest peak, offering breathtaking vistas that extend across the alpine horizon. Back in France, the rugged beauty of the Pelvoux and Barre des Écrins in the Dauphiné Alps offers yet another playground for alpine adventurers.\n",
    "These mountains, Mont Blanc, Eiger, Matterhorn, Dufourspitze and Barre des Écrins, each tell their own story of geological marvels and human endeavors. They stand as silent witnesses to the passage of time, continuing to draw those who seek the serenity and challenge of the high mountains.\n",
    "Across the Atlantic, in the vast landscapes of the United States, stand some of the most renowned mountains in the world, each with its unique allure and historical significance. In the state of Washington, Mount Rainier towers over the landscape, a massive stratovolcano that is both feared for its potential eruption and revered for its stunning beauty. This iconic landmark of the pacific northwest is a prominent feature of the Cascade Range and a challenging summit for climbers.\n",
    "Moving to the heart of Wyoming, the Grand Teton in Grand Teton National Park rises dramatically from the valley of Jackson Hole. Its jagged peaks, part of the Rocky Mountains, have become synonymous with rugged wilderness and natural beauty. The Grand Teton, with its impressive and formidable profile, continues to be a favorite destination for mountaineers and nature lovers.\n",
    "In the southwestern state of California, the Sierra Nevada range presents Mount Whitney, the highest summit in the contiguous United States. Its elevation of 14,505 feet attracts hikers and climbers from all over, eager to conquer its peak and enjoy the panoramic views from the top.\n",
    "'''\n",
    "# Process the text\n",
    "doc = trained_model(text)\n",
    "\n",
    "spacy.displacy.render(doc, style=\"ent\", jupyter=True) # display in Jupyter"
   ]
  },
  {
   "cell_type": "code",
   "execution_count": null,
   "id": "4ae89548-9e71-4732-9418-c225059a67a8",
   "metadata": {},
   "outputs": [],
   "source": []
  }
 ],
 "metadata": {
  "kernelspec": {
   "display_name": "Python 3 (ipykernel)",
   "language": "python",
   "name": "python3"
  },
  "language_info": {
   "codemirror_mode": {
    "name": "ipython",
    "version": 3
   },
   "file_extension": ".py",
   "mimetype": "text/x-python",
   "name": "python",
   "nbconvert_exporter": "python",
   "pygments_lexer": "ipython3",
   "version": "3.10.9"
  }
 },
 "nbformat": 4,
 "nbformat_minor": 5
}
